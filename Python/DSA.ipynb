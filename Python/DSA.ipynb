{
 "cells": [
  {
   "cell_type": "code",
   "execution_count": 8,
   "metadata": {},
   "outputs": [
    {
     "name": "stdout",
     "output_type": "stream",
     "text": [
      "2\n"
     ]
    }
   ],
   "source": [
    "def bs(a, x, l, h):             #binary search\n",
    "    if l > h:\n",
    "        return False\n",
    "    else:\n",
    "        m = l + (h -l)//2\n",
    "        if x == a[m]:\n",
    "            return m\n",
    "        elif x > a[m]:\n",
    "            return bs(a, x, m+1, h)\n",
    "        else:\n",
    "            return bs(a, x, l, m-1)\n",
    "\n",
    "n = int(input(\"Enter the size of array: \"))\n",
    "a = []\n",
    "for i in range(0, n):\n",
    "    k = int(input(\"Enter the values: \"))\n",
    "    a.append(k)\n",
    "\n",
    "x = int(input(\"Enter the value to find: \"))\n",
    "print(bs(a, x, 0, len(a)-1))"
   ]
  },
  {
   "cell_type": "code",
   "execution_count": 4,
   "metadata": {},
   "outputs": [
    {
     "name": "stdout",
     "output_type": "stream",
     "text": [
      "6\n"
     ]
    }
   ],
   "source": [
    "def ts(a,x,l,h):                #Ternary Search\n",
    "    if l > h:\n",
    "        return False\n",
    "    else:\n",
    "        m1 = l + (h - l)//3\n",
    "        m2 = h - (h - l)//3\n",
    "        if x == a[m1]:\n",
    "            return m1\n",
    "        elif x == a[m2]:\n",
    "            return m2\n",
    "        elif x > a[m2]:\n",
    "            return ts(a, x, m2+1, h)\n",
    "        elif x < a[m1]:\n",
    "            return ts(a, x, l, m1-1)\n",
    "        elif x < a[m2] and x > a[m1]:\n",
    "            return ts(a, x, m1+1, m2-1)\n",
    "\n",
    "n = int(input(\"Enter the size of array: \"))\n",
    "a = []\n",
    "for i in range(0, n):\n",
    "    k = int(input(\"Enter the values: \"))\n",
    "    a.append(k)\n",
    "\n",
    "x = int(input(\"Enter the value to find: \"))\n",
    "print(ts(a, x, 0, len(a)-1))"
   ]
  },
  {
   "cell_type": "code",
   "execution_count": 9,
   "metadata": {},
   "outputs": [
    {
     "name": "stdout",
     "output_type": "stream",
     "text": [
      "0\n"
     ]
    }
   ],
   "source": [
    "import math                         #Jump Search\n",
    "\n",
    "def js(a,x):\n",
    "    n = len(a)\n",
    "    m = int(math.sqrt(n))\n",
    "\n",
    "    for i in range(0, n):\n",
    "        if x == a[m]:\n",
    "            return m\n",
    "        elif x < a[m]:\n",
    "            for j in (m-m, m):\n",
    "                if x == a[j]:\n",
    "                    return j\n",
    "        elif x > a[m]:\n",
    "            m += m\n",
    "\n",
    "n = int(input(\"Enter the size of array: \"))\n",
    "a = []\n",
    "for i in range(0, n):\n",
    "    k = int(input(\"Enter the values: \"))\n",
    "    a.append(k)\n",
    "\n",
    "x = int(input(\"Enter the value to find: \"))\n",
    "print(js(a, x))"
   ]
  },
  {
   "cell_type": "code",
   "execution_count": 3,
   "metadata": {},
   "outputs": [
    {
     "name": "stdout",
     "output_type": "stream",
     "text": [
      "Element found at index:  7\n"
     ]
    }
   ],
   "source": [
    "def pos(a, l, h, x):                            #Interpolation Search\n",
    "    if (l <= h and x >= a[l] and x <= a[h]):\n",
    "        po = l + ((h - l) * (x - a[l])// (a[h] - a[l]))\n",
    "\n",
    "        if a[po] == x:\n",
    "            return po\n",
    "\n",
    "        elif a[po] < x:\n",
    "            return pos(a, po+1, h, x)\n",
    "        \n",
    "        elif a[po] > x:\n",
    "            return pos(a, l, po-1, x)\n",
    "    \n",
    "    return -1\n",
    "\n",
    "arr = [10, 12, 13, 16, 18, 19, 20, 21, 22, 23, 24, 33, 35, 42, 47]\n",
    "n = len(arr)\n",
    "x = int(input(\"Enter the number to be searched: \"))\n",
    "\n",
    "index = pos(arr, 0, n-1, x)\n",
    "\n",
    "if index != -1:\n",
    "    print(\"Element found at index: \", index)\n",
    "else:\n",
    "    print(\"Element not found.\")"
   ]
  }
 ],
 "metadata": {
  "kernelspec": {
   "display_name": "Python 3.10.6 64-bit",
   "language": "python",
   "name": "python3"
  },
  "language_info": {
   "codemirror_mode": {
    "name": "ipython",
    "version": 3
   },
   "file_extension": ".py",
   "mimetype": "text/x-python",
   "name": "python",
   "nbconvert_exporter": "python",
   "pygments_lexer": "ipython3",
   "version": "3.10.6 (main, Nov 14 2022, 16:10:14) [GCC 11.3.0]"
  },
  "orig_nbformat": 4,
  "vscode": {
   "interpreter": {
    "hash": "916dbcbb3f70747c44a77c7bcd40155683ae19c65e1c03b4aa3499c5328201f1"
   }
  }
 },
 "nbformat": 4,
 "nbformat_minor": 2
}
