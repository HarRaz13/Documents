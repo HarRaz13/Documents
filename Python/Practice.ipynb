{
 "cells": [
  {
   "cell_type": "code",
   "execution_count": 3,
   "metadata": {},
   "outputs": [
    {
     "name": "stdout",
     "output_type": "stream",
     "text": [
      "3 and 5\n",
      "5 and 7\n",
      "7 and 9\n",
      "9 and 11\n",
      "11 and 13\n",
      "13 and 15\n",
      "15 and 17\n",
      "17 and 19\n",
      "19 and 21\n",
      "21 and 23\n",
      "23 and 25\n",
      "25 and 27\n",
      "27 and 29\n",
      "29 and 31\n",
      "31 and 33\n",
      "33 and 35\n",
      "35 and 37\n",
      "37 and 39\n",
      "39 and 41\n",
      "41 and 43\n",
      "43 and 45\n",
      "45 and 47\n",
      "47 and 49\n",
      "49 and 51\n",
      "None\n"
     ]
    }
   ],
   "source": [
    "def checkprime(max_num):\n",
    "    for num in range(2, max_num):\n",
    "        if max_num % num == 0:\n",
    "            return False\n",
    "        return True\n",
    "\n",
    "def twinprime(max_num):\n",
    "    for num1 in range(2, max_num):\n",
    "        num2 = num1 + 2\n",
    "        if (checkprime(num1) and checkprime(num2)):\n",
    "            print(\"{0} and {1}\".format(num1, num2))\n",
    "\n",
    "max_num = int(input(\"Enter the value: \"))\n",
    "print(twinprime(max_num))"
   ]
  },
  {
   "cell_type": "code",
   "execution_count": 2,
   "metadata": {},
   "outputs": [
    {
     "name": "stdout",
     "output_type": "stream",
     "text": [
      "284 and 220 are amicable\n",
      "1210 and 1184 are amicable\n",
      "2924 and 2620 are amicable\n",
      "5564 and 5020 are amicable\n",
      "6368 and 6232 are amicable\n",
      "None\n"
     ]
    }
   ],
   "source": [
    "def sum_factor(n):\n",
    "    re=[]\n",
    "    for i in range(1, int(n**0.5)+1):\n",
    "        if n%i == 0:\n",
    "            re.extend([i, n//i])\n",
    "    return sum(set(re)-set([n]))\n",
    "\n",
    "def amicable(number):\n",
    "    for x in range(1, number+1):\n",
    "        y = sum_factor(x)\n",
    "        if sum_factor(y) == x and x != y and x > y:\n",
    "            print(\"{} and {} are amicable\".format(x,y))\n",
    "\n",
    "\n",
    "print(amicable(10000))"
   ]
  },
  {
   "cell_type": "code",
   "execution_count": 4,
   "metadata": {},
   "outputs": [
    {
     "name": "stdout",
     "output_type": "stream",
     "text": [
      "Details: \n",
      "UID:  20040\n",
      "Name:  Harish\n",
      "Course:  MCA\n"
     ]
    }
   ],
   "source": [
    "class CU:\n",
    "    def dept(self):\n",
    "        self.uid = int(input(\"Enter UID: \"))\n",
    "        self.name = input(\"Enter Name: \")\n",
    "        self.course = input(\"Enter Course: \")\n",
    "\n",
    "    def view(self):\n",
    "        print(\"UID: \",self.uid)\n",
    "        print(\"Name: \",self.name)\n",
    "        print(\"Course: \",self.course)\n",
    "\n",
    "c1 = CU()\n",
    "\n",
    "c1.dept()\n",
    "print(\"Details: \")\n",
    "c1.view()"
   ]
  },
  {
   "cell_type": "code",
   "execution_count": 5,
   "metadata": {},
   "outputs": [
    {
     "name": "stdout",
     "output_type": "stream",
     "text": [
      "==========Library Menu==========\n",
      "        1. Display all available books\n",
      "        2. Request a book\n",
      "        3. Return a book\n",
      "        4. Exit\n",
      "The books we have in our library are as follows: \n",
      "===============================================\n",
      "Python\n",
      "ADBMS\n",
      "Linux\n",
      "Computer Network\n",
      "==========Library Menu==========\n",
      "        1. Display all available books\n",
      "        2. Request a book\n",
      "        3. Return a book\n",
      "        4. Exit\n",
      "Enter the book you like to borrow: \n",
      "Sorry the book you have requested is currently not in the library\n",
      "==========Library Menu==========\n",
      "        1. Display all available books\n",
      "        2. Request a book\n",
      "        3. Return a book\n",
      "        4. Exit\n",
      "Enter the book you like to borrow: \n",
      "The book you requested has been borrowed\n",
      "==========Library Menu==========\n",
      "        1. Display all available books\n",
      "        2. Request a book\n",
      "        3. Return a book\n",
      "        4. Exit\n"
     ]
    },
    {
     "ename": "ValueError",
     "evalue": "invalid literal for int() with base 10: 'ADBMS'",
     "output_type": "error",
     "traceback": [
      "\u001b[0;31m---------------------------------------------------------------------------\u001b[0m",
      "\u001b[0;31mValueError\u001b[0m                                Traceback (most recent call last)",
      "Cell \u001b[0;32mIn [5], line 54\u001b[0m\n\u001b[1;32m     50\u001b[0m         \u001b[39melif\u001b[39;00m choice \u001b[39m==\u001b[39m \u001b[39m4\u001b[39m:\n\u001b[1;32m     51\u001b[0m             exit()\n\u001b[0;32m---> 54\u001b[0m main()\n",
      "Cell \u001b[0;32mIn [5], line 43\u001b[0m, in \u001b[0;36mmain\u001b[0;34m()\u001b[0m\n\u001b[1;32m     37\u001b[0m \u001b[39mwhile\u001b[39;00m done \u001b[39m==\u001b[39m \u001b[39mFalse\u001b[39;00m:\n\u001b[1;32m     38\u001b[0m     \u001b[39mprint\u001b[39m(\u001b[39m\"\"\"\u001b[39m\u001b[39m==========Library Menu==========\u001b[39m\n\u001b[1;32m     39\u001b[0m \u001b[39m    1. Display all available books\u001b[39m\n\u001b[1;32m     40\u001b[0m \u001b[39m    2. Request a book\u001b[39m\n\u001b[1;32m     41\u001b[0m \u001b[39m    3. Return a book\u001b[39m\n\u001b[1;32m     42\u001b[0m \u001b[39m    4. Exit\u001b[39m\u001b[39m\"\"\"\u001b[39m)\n\u001b[0;32m---> 43\u001b[0m     choice \u001b[39m=\u001b[39m \u001b[39mint\u001b[39;49m(\u001b[39minput\u001b[39;49m(\u001b[39m\"\u001b[39;49m\u001b[39mEnter Choice: \u001b[39;49m\u001b[39m\"\u001b[39;49m))\n\u001b[1;32m     44\u001b[0m     \u001b[39mif\u001b[39;00m choice \u001b[39m==\u001b[39m \u001b[39m1\u001b[39m:\n\u001b[1;32m     45\u001b[0m         library\u001b[39m.\u001b[39mdisplayAvailablebooks()\n",
      "\u001b[0;31mValueError\u001b[0m: invalid literal for int() with base 10: 'ADBMS'"
     ]
    }
   ],
   "source": [
    "class Library:\n",
    "    def __init__(self, listofbooks):\n",
    "        self.availablebooks = listofbooks\n",
    "\n",
    "    def displayAvailablebooks(self):\n",
    "        print(\"The books we have in our library are as follows: \")\n",
    "        print(\"===============================================\")\n",
    "        for book in self.availablebooks:\n",
    "            print(book)\n",
    "\n",
    "    def lendBook(self, requestedBook):\n",
    "        if requestedBook in self.availablebooks:\n",
    "            print(\"The book you requested has been borrowed\")\n",
    "            self.availablebooks.remove(requestedBook)\n",
    "        else:\n",
    "            print(\"Sorry the book you have requested is currently not in the library\")\n",
    "\n",
    "    def takeBook(self, returnedBook):\n",
    "        self.availablebooks.append(returnedBook)\n",
    "        print(\"Thanks for returning your borrowed book\")\n",
    "\n",
    "class Student:\n",
    "    def requestBook(self):\n",
    "        print(\"Enter the book you like to borrow: \")\n",
    "        self.book = input()\n",
    "        return self.book\n",
    "\n",
    "    def returnBook(self):\n",
    "        print(\"Enter the name of the book you like to return: \")\n",
    "        self.book = input()\n",
    "        return self.book\n",
    "\n",
    "def main():\n",
    "    library = Library([\"Python\", \"ADBMS\", \"Linux\", \"Computer Network\"])\n",
    "    student = Student()\n",
    "    done = False\n",
    "    while done == False:\n",
    "        print(\"\"\"==========Library Menu==========\n",
    "        1. Display all available books\n",
    "        2. Request a book\n",
    "        3. Return a book\n",
    "        4. Exit\"\"\")\n",
    "        choice = int(input(\"Enter Choice: \"))\n",
    "        if choice == 1:\n",
    "            library.displayAvailablebooks()\n",
    "        elif choice == 2:\n",
    "            library.lendBook(student.requestBook())\n",
    "        elif choice == 3:\n",
    "            library.takeBook(student.returnBook())\n",
    "        elif choice == 4:\n",
    "            exit()\n",
    "\n",
    "\n",
    "main()"
   ]
  },
  {
   "cell_type": "code",
   "execution_count": 6,
   "metadata": {},
   "outputs": [
    {
     "name": "stdout",
     "output_type": "stream",
     "text": [
      "Original Array: \n",
      "[[[ 0  1  2  3]\n",
      "  [ 4  5  6  7]\n",
      "  [ 8  9 10 11]\n",
      "  [12 13 14 15]]\n",
      "\n",
      " [[16 17 18 19]\n",
      "  [20 21 22 23]\n",
      "  [24 25 26 27]\n",
      "  [28 29 30 31]]]\n",
      "Array after swapping columns: \n",
      "[[[ 2  1  0  3]\n",
      "  [ 6  5  4  7]\n",
      "  [10  9  8 11]\n",
      "  [14 13 12 15]]\n",
      "\n",
      " [[18 17 16 19]\n",
      "  [22 21 20 23]\n",
      "  [26 25 24 27]\n",
      "  [30 29 28 31]]]\n"
     ]
    }
   ],
   "source": [
    "import numpy as np\n",
    "ar = np.arange(32).reshape(2,4,4)\n",
    "print(\"Original Array: \")\n",
    "print(ar)\n",
    "ar[:,:,[0,2]] = ar[:,:,[2,0]]\n",
    "print(\"Array after swapping columns: \")\n",
    "print(ar)"
   ]
  },
  {
   "cell_type": "code",
   "execution_count": 7,
   "metadata": {},
   "outputs": [
    {
     "name": "stdout",
     "output_type": "stream",
     "text": [
      "[['Rollno' 'Name']\n",
      " ['101' 'Harish']\n",
      " ['102' 'Link']\n",
      " ['103' 'Mario']]\n"
     ]
    }
   ],
   "source": [
    "import numpy as np\n",
    "ar = np.loadtxt(\"data.txt\", dtype='str', usecols=(0,1))\n",
    "print(ar)"
   ]
  },
  {
   "cell_type": "code",
   "execution_count": 1,
   "metadata": {},
   "outputs": [
    {
     "data": {
      "image/png": "[encoded data removed]",
      "text/plain": [
       "<Figure size 1000x500 with 1 Axes>"
      ]
     },
     "metadata": {},
     "output_type": "display_data"
    }
   ],
   "source": [
    "import matplotlib.pyplot as plt\n",
    "import numpy as np\n",
    "\n",
    "data = {'Maths':83, 'Physics':79, 'Chemistry':75, 'English':87, 'Social Science':82}\n",
    "courses = list(data.keys())\n",
    "values = list(data.values())\n",
    "\n",
    "f = plt.figure(figsize=(10,5))\n",
    "plt.bar(courses, values, width=0.3)\n",
    "\n",
    "plt.xlabel(\"Subjects\")\n",
    "plt.ylabel(\"Marks\")\n",
    "plt.title(\"Student enrolled in different courses\")\n",
    "plt.show()"
   ]
  },
  {
   "cell_type": "code",
   "execution_count": 6,
   "metadata": {},
   "outputs": [
    {
     "name": "stdout",
     "output_type": "stream",
     "text": [
      "[1, 3, 4]\n"
     ]
    }
   ],
   "source": [
    "l1=[1,3]\n",
    "l2=l1\n",
    "l1.append(4)\n",
    "print(l2)"
   ]
  }
 ],
 "metadata": {
  "kernelspec": {
   "display_name": "Python 3",
   "language": "python",
   "name": "python3"
  },
  "language_info": {
   "codemirror_mode": {
    "name": "ipython",
    "version": 3
   },
   "file_extension": ".py",
   "mimetype": "text/x-python",
   "name": "python",
   "nbconvert_exporter": "python",
   "pygments_lexer": "ipython3",
   "version": "3.10.6 (main, Nov 14 2022, 16:10:14) [GCC 11.3.0]"
  },
  "orig_nbformat": 4,
  "vscode": {
   "interpreter": {
    "hash": "916dbcbb3f70747c44a77c7bcd40155683ae19c65e1c03b4aa3499c5328201f1"
   }
  }
 },
 "nbformat": 4,
 "nbformat_minor": 2
}
